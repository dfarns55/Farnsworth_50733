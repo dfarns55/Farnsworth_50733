{
 "cells": [
  {
   "cell_type": "markdown",
   "id": "5ab6552a-ce91-4ef8-87f8-f25623dec62c",
   "metadata": {},
   "source": [
    "# Homework 3\n",
    "### Due: Thursday Feb. 27\n",
    "\n",
    "#### Numerical Derivative VS Known Derivative\n",
    "\n",
    "Consider the function $ 1 + \\frac{1}{2} + tanh(2x)$. You should be able to write the derivative without much effort (if not feel free to google it, remember hyperbolic trig functions behave similarly to their traditional counterparts when differentiating).\n",
    "\n",
    "Calculate the derivative of this function in the range $-2 \\le x \\le 2$ using the central difference method. Choose your own (**suitable**) spacing. Plot your computed derivative as points and use a line to plot the analytic solution through the same points. How accurate is your computed derivative?\n",
    "\n",
    "(20 points)"
   ]
  },
  {
   "cell_type": "code",
   "execution_count": 1,
   "id": "a8ffa652-0fe0-4f69-ad0d-8233337dbc86",
   "metadata": {},
   "outputs": [],
   "source": [
    "# code"
   ]
  },
  {
   "cell_type": "markdown",
   "id": "4a655e5e-d9b0-4966-bc63-e6f36acca166",
   "metadata": {},
   "source": [
    "#### Electric field of a charge distribution\n",
    "\n",
    "We're all well aware of the endless fun one can have finding analytic solutions to electrostatic problems. But I propose to you that it is even more fun to let the computer do the work! Once you've carefully written the code.\n",
    "\n",
    "Recall the electric potential at a distance $r$ from a point charge is given by $\\phi = q/4 \\pi \\epsilon_0 r$, and the electric field can be found by $\\vec{E} = - \\nabla \\phi$.\n",
    "\n",
    "Consider two charges, of $\\pm C$, 10 cm apart. Calculate the electric potential on a 1m x 1m plane surrounding the charges, using a grid of points spaced 1 cm apart. Plot the potential. (Note: 1 cm is a starting point, once you plot the potential you may decide you want a more or less dense grid, feel free to choose a grid that looks good. The computation should be fast enough to play around with this parameter.) The easiest way to plot a 2-dimensional array of scalar values is to use the `imshow` function in `matplotlib.pyplot`. The function will accept as its first argument a 2D array and produce a map with somewhat reasonable colors, but you can also pass kwargs for `cmap`, `vmin`, and `vmax`. The documentation will be helpful.\n",
    "\n",
    "(20 points)\n",
    "\n",
    "You may find a few points very close to the charges end up being \"too close\" and the very small distances lead to floating point issues. A normal solution to this type of issue is to use a \"softening\" parameter, which is a small number that is used as an enforced minimum, i.e. if your calculated number is less than the softening parameter, use the softening parameter instead. "
   ]
  },
  {
   "cell_type": "code",
   "execution_count": null,
   "id": "8edb417a-e28e-4794-94ec-67947d082806",
   "metadata": {},
   "outputs": [],
   "source": [
    "# code"
   ]
  },
  {
   "cell_type": "markdown",
   "id": "74e56698-1ac3-4015-9191-38f91b79c565",
   "metadata": {},
   "source": [
    "Use the electric potential you calculated above to calculate the electric field on the same grid. You may find it convenient to track the x and y components of the electric field in separate 2 dimensional arrays. Recall the instructions in Chapter 5 for computing partial derivatives.\n",
    "\n",
    "Visualizing this electric field is a bit trickier, since the field has both magnitude and direction. `imshow` may be useful for debugging the x or y components, but visualizing the whole field requires we use both components to plot the field. `matplotlib.pyplot` provides a vfunction called `quiver` that produces a plot of arrows; it accepts as its first two arguments two 2-Dimensional arrays specifying the x and y components of each arrow on the grid.\n",
    "\n",
    "(30 points)\n",
    "\n",
    "You will likely have a similar problem as above with \"too close\" points, but it will be much worse. The magnitude of the electric field very close to the charges may cause your plot to look very bad, almost nonsensical. Limiting the magnitude of your vectors may help. (i.e. if the quadrature sum of the components is too high, reduce the components)"
   ]
  },
  {
   "cell_type": "markdown",
   "id": "954c6aec-c957-471f-a2b5-d4ee6c69199a",
   "metadata": {},
   "source": [
    "#### Electric field of a charge distribution\n",
    "\n",
    "We're all well aware of the endless fun one can have finding analytic solutions to electrostatic problems. But I propose to you that it is even more fun to let the computer do the work! Once you've carefully written the code.\n",
    "\n",
    "Recall the electric potential at a distance $r$ from a point charge is given by $\\phi = q/4 \\pi \\epsilon_0 r$, and the electric field can be found by $\\vec{E} = - \\nabla \\phi$.\n",
    "\n",
    "Consider two charges, of $\\pm C$, 10 cm apart. Calculate the electric potential on a 1m x 1m plane surrounding the charges, using a grid of points spaced 1 cm apart. Plot the potential. (Note: 1 cm is a starting point, once you plot the potential you may decide you want a more or less dense grid, feel free to choose a grid that looks good. The computation should be fast enough to play around with this parameter.) The easiest way to plot a 2-dimensional array of scalar values is to use the `imshow` function in `matplotlib.pyplot`. The function will accept as its first argument a 2D array and produce a map with somewhat reasonable colors, but you can also pass kwargs for `cmap`, `vmin`, and `vmax`. The documentation will be helpful.\n",
    "\n",
    "(20 points)\n",
    "\n",
    "You may find a few points very close to the charges end up being \"too close\" and the very small distances lead to floating point issues. A normal solution to this type of issue is to use a \"softening\" parameter, which is a small number that is used as an enforced minimum, i.e. if your calculated number is less than the softening parameter, use the softening parameter instead. "
   ]
  },
  {
   "cell_type": "code",
   "execution_count": null,
   "id": "0d2415f8-f735-4849-bd89-a3065d61f8c8",
   "metadata": {},
   "outputs": [],
   "source": [
    "# code"
   ]
  },
  {
   "attachments": {},
   "cell_type": "markdown",
   "id": "f23957ac-7f2f-41f7-98b4-f3a8d71713c8",
   "metadata": {},
   "source": [
    "### Solving matrices\n",
    "\n",
    "Exercises 6.1 in your book shows a network of resistors and suggests a method to solve for V at each point. Write out the full system of equations and then implement the code to solve them using Gaussian elimination. As usual, some code to solve the problem is provided, but you will find it more instructive to first attempt to code the solution yourself. The code is there if you get stuck. As usual I don't want to see identical code in multiple assignments!\n",
    "\n",
    "(15 points)\n",
    "\n",
    "Exercise 6.2 is an extension of 6.1. Complete parts a) and b) for (10 points)\n",
    "\n",
    "Finally, Exercise 6.4 instructs you to verify you get the same answer using [numpy](https://numpy.org/doc/2.1/reference/generated/numpy.linalg.solve.html#numpy.linalg.solve). (5 points)"
   ]
  },
  {
   "cell_type": "code",
   "execution_count": null,
   "id": "c9b712c4-3347-4d77-9e9c-7c1c1feb4a50",
   "metadata": {},
   "outputs": [],
   "source": [
    "# code"
   ]
  }
 ],
 "metadata": {
  "kernelspec": {
   "display_name": "Python 3 (ipykernel)",
   "language": "python",
   "name": "python3"
  },
  "language_info": {
   "codemirror_mode": {
    "name": "ipython",
    "version": 3
   },
   "file_extension": ".py",
   "mimetype": "text/x-python",
   "name": "python",
   "nbconvert_exporter": "python",
   "pygments_lexer": "ipython3",
   "version": "3.12.9"
  }
 },
 "nbformat": 4,
 "nbformat_minor": 5
}
