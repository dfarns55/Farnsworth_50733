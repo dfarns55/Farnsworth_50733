{
 "cells": [
  {
   "cell_type": "markdown",
   "id": "bffac090-008a-430d-aeca-eeee1b1766da",
   "metadata": {},
   "source": [
    "# Homework 5\n",
    "## Due Thursday Apr. 3rd\n",
    "\n",
    "### Fitting a parabola\n",
    "\n",
    "Let's quickly create some fake data of a projectile traveling under the influence of gravity."
   ]
  },
  {
   "cell_type": "code",
   "execution_count": 1,
   "id": "82c31699-3c0e-4fc3-a56f-70524465e1ee",
   "metadata": {},
   "outputs": [
    {
     "data": {
      "text/plain": [
       "<matplotlib.collections.PathCollection at 0x20f53f23b00>"
      ]
     },
     "execution_count": 1,
     "metadata": {},
     "output_type": "execute_result"
    },
    {
     "data": {
      "image/png": "[encoded data removed]",
      "text/plain": [
       "<Figure size 640x480 with 1 Axes>"
      ]
     },
     "metadata": {},
     "output_type": "display_data"
    }
   ],
   "source": [
    "import copy\n",
    "import numpy as np\n",
    "import matplotlib.pyplot as plt\n",
    "from matplotlib import cm\n",
    "from matplotlib.colors import LightSource\n",
    "from scipy.optimize import minimize, curve_fit\n",
    "\n",
    "t = np.arange(0, 10, 0.1)\n",
    "y = 10 + 50*t - 9.8*t**2/2\n",
    "noisy = y + np.random.randn(len(y)) * 10\n",
    "\n",
    "plt.scatter(t, noisy)"
   ]
  },
  {
   "cell_type": "code",
   "execution_count": null,
   "id": "37d68864-2614-4ead-a312-199d30773c34",
   "metadata": {},
   "outputs": [],
   "source": []
  },
  {
   "cell_type": "raw",
   "id": "f708a5db-8470-47c1-a010-6237b9ea12d0",
   "metadata": {},
   "source": [
    "Now we'll conveniently forget that we \"knew\" acceleration due to gravity for the sake of this exercise. \n",
    "\n",
    "We will however remember that objects in motion under the influence of a constant acceleration, in a vacuum, move according to the equation $ x = x_0 + v\\cdot t $+$ a\\cdot t^2 \\over 2$.\n",
    "\n",
    "We should be able to recover the acceleration due to gravity by finding the three coefficients of a second degree polynomial fit to our fake data (use `noisy`, not `y`).\n",
    "\n",
    "- a) Write a 2nd degree polynomial function then use $\\chi^2$ minimization to find the three best fit coefficients (25 pts)\n",
    "\n",
    "- b) Plot your best fit results to confirm the goodness of fit (5 pts)\n",
    "\n",
    "- c) Solve for acceleration due to gravity! (Pretend it's a real problem; I could have given you the data but I figured it was easier to generate it) (5 pts)\n",
    "\n",
    "Hint: If you're having trouble, try using the Nelder Mead algorithm provided in class; it should converge quickly"
   ]
  },
  {
   "cell_type": "code",
   "execution_count": null,
   "id": "361bd65c-a29c-4601-b961-e32043af358a",
   "metadata": {},
   "outputs": [],
   "source": [
    "# code"
   ]
  },
  {
   "cell_type": "markdown",
   "id": "998b6a8c-8a28-4899-8c19-4f61b2c623bc",
   "metadata": {},
   "source": [
    "### You wrote a gradient descent algorithm, right?\n",
    "\n",
    "As promised, the other half of this assignment requires your own implementation of a gradient descent algorithm.\n",
    "\n",
    "Below I have defined a simple function, $2 \\sin x + 1$. Your 2-D/N-D gradient descent algorithm should be able to find a reasonable answer with little trouble.\n",
    "\n",
    "- a) Use your gradient descent algorithm to find the best fit line using chi-square minimization. Feel free to use the existing `line` function in your fitting; you can assume the form and just find coefficients. Make sure the code you wrote for gradient descent is in your turned in assignment. (40 pts)\n",
    "\n",
    "- b) Plot your best fit results to confirm the goodness of fit (5 pts)\n",
    "\n",
    "- c) Plot the chi-square surface that along which you descended; feel free to copy-paste the 3-D plotting code from class. (5 pts, +5 bonus** points if you plot the path your algorithm took down the slope)\n",
    "\n",
    "\n",
    "\n",
    "** I don't think I can enter > 100 in the grade book but if you're already at full credit you probably don't need the bonus right?"
   ]
  },
  {
   "cell_type": "code",
   "execution_count": null,
   "id": "970309fe-1c29-4857-ad7c-2a14780faa60",
   "metadata": {},
   "outputs": [],
   "source": [
    "def line(x, m, b):\n",
    "    return m*np.sin(x) + b\n",
    "\n",
    "x = np.arange(0, 10, 0.1)\n",
    "y = line(x, 2, 1)\n",
    "\n",
    "# code"
   ]
  },
  {
   "cell_type": "markdown",
   "id": "c6931a79-f31d-4e38-8d82-439bd1f5b7ae",
   "metadata": {},
   "source": [
    "## You're allowed to use scipy now\n",
    "\n",
    "The point of this course is to increase your understanding of computational techniques at their fundamental level. Now that we've beat minimization to death, you've earned the right to simply use `scipy.optimize.minimize`.\n",
    "\n",
    "- a) Exercise that right now by using `minimize` in place of gradient descent or Nelder-Meade to find the best fit of the `line` function above. This may seem like you're substituting a single function name, but note `minimize` returns a \"result\" not a number/array/tuple. You can access the \"answer\" with `result.x`; the documentation may also be helpful. (10 points)\n",
    "\n",
    "- b) In a previouse course you should have seen `scipy.optimize.curve_fit`. Fundamentally, curve_fit is also solving a minimization problem under-the-hood. Can it find the best fit parameters of our `line` function? Try it! Note: `curve_fit` expects inputs in the order `(func, xdat, ydat)`, not the order used in class. In testing, I could not make `curve_fit` converge to the right answer, even if I passed it for the initial guess. Can you? Or have we just demonstrated the need for using lower level functions sometimes?! (5 points)"
   ]
  },
  {
   "cell_type": "code",
   "execution_count": 1,
   "id": "07eeb5fa-ccab-4063-b143-697117a63776",
   "metadata": {},
   "outputs": [],
   "source": [
    "# code"
   ]
  },
  {
   "cell_type": "code",
   "execution_count": null,
   "id": "b4a8b4d6-aeba-408a-b0f6-5c84e10a2dec",
   "metadata": {},
   "outputs": [],
   "source": []
  }
 ],
 "metadata": {
  "kernelspec": {
   "display_name": "Python 3 (ipykernel)",
   "language": "python",
   "name": "python3"
  },
  "language_info": {
   "codemirror_mode": {
    "name": "ipython",
    "version": 3
   },
   "file_extension": ".py",
   "mimetype": "text/x-python",
   "name": "python",
   "nbconvert_exporter": "python",
   "pygments_lexer": "ipython3",
   "version": "3.12.9"
  }
 },
 "nbformat": 4,
 "nbformat_minor": 5
}
